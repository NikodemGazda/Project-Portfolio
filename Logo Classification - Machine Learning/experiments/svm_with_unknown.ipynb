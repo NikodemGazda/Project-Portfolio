{
 "cells": [
  {
   "cell_type": "code",
   "execution_count": 1,
   "id": "03787982",
   "metadata": {},
   "outputs": [],
   "source": [
    "import numpy as np\n",
    "import numpy.random as npr\n",
    "import matplotlib.pyplot as plt\n",
    "%matplotlib inline\n",
    "plt.style.use('bmh')\n",
    "\n",
    "import pandas as pd\n",
    "import cv2\n",
    "from sklearn.pipeline import Pipeline\n",
    "from sklearn.model_selection import train_test_split\n",
    "from sklearn.svm import SVC\n",
    "from sklearn.preprocessing import PolynomialFeatures, normalize, StandardScaler\n",
    "from sklearn.metrics import confusion_matrix, precision_score, classification_report, accuracy_score, f1_score\n",
    "from sklearn.model_selection import GridSearchCV\n",
    "\n",
    "from PIL import Image\n",
    "\n",
    "import time"
   ]
  },
  {
   "cell_type": "code",
   "execution_count": 2,
   "id": "b3a840f5",
   "metadata": {},
   "outputs": [
    {
     "name": "stdout",
     "output_type": "stream",
     "text": [
      "(270000, 3717) (3717,)\n"
     ]
    }
   ],
   "source": [
    "# Loading Data\n",
    "data_train = np.load('data_train.npy')\n",
    "labels_train = np.load('labels_train.npy')\n",
    "\n",
    "print(data_train.shape, labels_train.shape)"
   ]
  },
  {
   "cell_type": "code",
   "execution_count": 3,
   "id": "395ab295-96dc-4ae0-b034-078287dd7084",
   "metadata": {},
   "outputs": [
    {
     "name": "stdout",
     "output_type": "stream",
     "text": [
      "(270000, 2000) (2000,)\n"
     ]
    }
   ],
   "source": [
    "# Loading Unknown Class Data\n",
    "data_unknown = np.load('data_unknown.npy')\n",
    "labels_unknown = np.load('labels_unknown.npy')\n",
    "\n",
    "print(data_unknown.shape, labels_unknown.shape)"
   ]
  },
  {
   "cell_type": "code",
   "execution_count": 4,
   "id": "1d80114f-c0e0-47b6-9792-9e9980d4551e",
   "metadata": {},
   "outputs": [],
   "source": [
    "data_train = np.concatenate((data_train, data_unknown),axis = 1)\n",
    "labels_train = np.concatenate((labels_train, labels_unknown))\n",
    "labels_train[labels_train == -1] = 10"
   ]
  },
  {
   "cell_type": "code",
   "execution_count": 5,
   "id": "795aac0c-7302-45e2-a56c-4efcdcb54879",
   "metadata": {},
   "outputs": [],
   "source": [
    "X = data_train.T\n",
    "t = labels_train\n",
    "#orig = X[0,:].reshape((300,300,3))"
   ]
  },
  {
   "cell_type": "code",
   "execution_count": 6,
   "id": "26d77e39-3a7f-4a54-a996-edc6299747a0",
   "metadata": {},
   "outputs": [
    {
     "data": {
      "text/plain": [
       "'def resizeImg(image, output_size):\\n    input_size = image.shape[0]\\n    output_size = output_size\\n    bin_size = input_size // output_size\\n    small_image = image.reshape((output_size, bin_size, \\n                                       output_size, bin_size)).max(3).max(1)\\n    #small_image = image.reshape((output_size, bin_size, \\n    #                                   output_size, bin_size, 3)).max(3).max(1)\\n    return small_image\\n\\ndef grayConversion(image):\\n    grayValue = 0.07 * image[:,:,2] + 0.72 * image[:,:,1] + 0.21 * image[:,:,0]\\n    gray_img = grayValue.astype(np.uint8)\\n    return gray_img\\n\\n#g = grayConversion(orig)\\n\\nX_gray = np.zeros((labels_train.shape[0],90000))\\nfor i in range(X.shape[0]):\\n    gray_img = grayConversion(X[i,:].reshape((300,300,3)))\\n    X_gray[i,:] = gray_img.ravel()[:,np.newaxis].T\\n\\noutput_size = 50\\nX_small = np.zeros((data_train.shape[0],(output_size**2)))\\nfor i in range(X.shape[0]):\\n    small_img = resizeImg(X[i,:].reshape((300,300,3)), output_size)\\n    X_small[i,:] = small_img.ravel()[:,np.newaxis].T\\n\\nfor i in range(X.shape[0]):\\n    small_img = resizeImg(X_gray[i,:].reshape((300,300)), output_size)\\n    X_small[i,:] = small_img.ravel()[:,np.newaxis].T\\n    \\nX_small.shape'"
      ]
     },
     "execution_count": 6,
     "metadata": {},
     "output_type": "execute_result"
    }
   ],
   "source": [
    "'''def resizeImg(image, output_size):\n",
    "    input_size = image.shape[0]\n",
    "    output_size = output_size\n",
    "    bin_size = input_size // output_size\n",
    "    small_image = image.reshape((output_size, bin_size, \n",
    "                                       output_size, bin_size)).max(3).max(1)\n",
    "    #small_image = image.reshape((output_size, bin_size, \n",
    "    #                                   output_size, bin_size, 3)).max(3).max(1)\n",
    "    return small_image\n",
    "\n",
    "def grayConversion(image):\n",
    "    grayValue = 0.07 * image[:,:,2] + 0.72 * image[:,:,1] + 0.21 * image[:,:,0]\n",
    "    gray_img = grayValue.astype(np.uint8)\n",
    "    return gray_img\n",
    "\n",
    "#g = grayConversion(orig)\n",
    "\n",
    "X_gray = np.zeros((labels_train.shape[0],90000))\n",
    "for i in range(X.shape[0]):\n",
    "    gray_img = grayConversion(X[i,:].reshape((300,300,3)))\n",
    "    X_gray[i,:] = gray_img.ravel()[:,np.newaxis].T\n",
    "\n",
    "output_size = 50\n",
    "X_small = np.zeros((data_train.shape[0],(output_size**2)))\n",
    "for i in range(X.shape[0]):\n",
    "    small_img = resizeImg(X[i,:].reshape((300,300,3)), output_size)\n",
    "    X_small[i,:] = small_img.ravel()[:,np.newaxis].T\n",
    "\n",
    "for i in range(X.shape[0]):\n",
    "    small_img = resizeImg(X_gray[i,:].reshape((300,300)), output_size)\n",
    "    X_small[i,:] = small_img.ravel()[:,np.newaxis].T\n",
    "    \n",
    "X_small.shape'''"
   ]
  },
  {
   "cell_type": "code",
   "execution_count": 7,
   "id": "d7a40123-82ce-48aa-8e68-0deac8e416c2",
   "metadata": {},
   "outputs": [
    {
     "name": "stderr",
     "output_type": "stream",
     "text": [
      "/scratch/local/62545500/ipykernel_127157/1684613638.py:9: DeprecationWarning: ANTIALIAS is deprecated and will be removed in Pillow 10 (2023-07-01). Use LANCZOS or Resampling.LANCZOS instead.\n",
      "  img_resized = img_gray.resize(new_size, Image.ANTIALIAS)\n"
     ]
    }
   ],
   "source": [
    "def resize_and_convert_grayscale(np_image, new_size):\n",
    "    # Convert NumPy array to PIL Image\n",
    "    img = Image.fromarray(np_image)\n",
    "    \n",
    "    # Convert the image to grayscale\n",
    "    img_gray = img.convert('L')\n",
    "    \n",
    "    # Resize the image\n",
    "    img_resized = img_gray.resize(new_size, Image.ANTIALIAS)\n",
    "    \n",
    "    # Convert PIL Image back to NumPy array\n",
    "    np_resized = np.array(img_resized)\n",
    "\n",
    "    return np_resized\n",
    "\n",
    "# Usage\n",
    "input_images = X\n",
    "original_shape = (300, 300, 3) \n",
    "new_size = (50, 50) \n",
    "\n",
    "# Initialize an empty list to store the processed images\n",
    "processed_images = []\n",
    "\n",
    "for i in range(input_images.shape[0]):\n",
    "    # Reshape the 1D flattened image back to its original 2D or 3D shape\n",
    "    image_2D = input_images[i].reshape(original_shape)\n",
    "\n",
    "    # Apply resizing and grayscale conversion\n",
    "    output_image = resize_and_convert_grayscale(image_2D, new_size)\n",
    "\n",
    "    # Flatten the output image and add it to the list of processed images\n",
    "    processed_images.append(output_image.flatten())\n",
    "\n",
    "# Convert the list of processed images back to a 2D NumPy array\n",
    "output_images = np.array(processed_images)"
   ]
  },
  {
   "cell_type": "code",
   "execution_count": 8,
   "id": "dd8a13f0-571c-4b1f-b924-575bb5ef6df4",
   "metadata": {},
   "outputs": [
    {
     "data": {
      "text/plain": [
       "(5717, 2500)"
      ]
     },
     "execution_count": 8,
     "metadata": {},
     "output_type": "execute_result"
    }
   ],
   "source": [
    "output_images.shape"
   ]
  },
  {
   "cell_type": "code",
   "execution_count": 9,
   "id": "5ee81b77-3375-4dc5-a04d-1cb928a39b68",
   "metadata": {},
   "outputs": [
    {
     "name": "stdout",
     "output_type": "stream",
     "text": [
      "Elapsed time: 902.4659230709076 s\n"
     ]
    }
   ],
   "source": [
    "start = time.time()\n",
    "\n",
    "x_train, x_test, t_train, t_test = train_test_split(output_images, t, test_size=0.2, random_state=0)\n",
    "svc_rbf = Pipeline([('scaler', StandardScaler()),\n",
    "               ('SVC', SVC(kernel='rbf'))])\n",
    "\n",
    "# soft-margin SVM with RBF kernel\n",
    "parameters = {\n",
    "    'SVC__gamma': ['scale', 'auto'],\n",
    "    'SVC__C': [1, 5, 10]\n",
    "}\n",
    "cv = GridSearchCV(svc_rbf, param_grid=parameters)\n",
    "cv.fit(x_train, t_train)\n",
    "model_best = cv.best_estimator_\n",
    "t_pred_svc_rbf = model_best.predict(x_test)\n",
    "\n",
    "end = time.time()\n",
    "elapsed_time = end - start\n",
    "print(f\"Elapsed time: {elapsed_time} s\")"
   ]
  },
  {
   "cell_type": "code",
   "execution_count": 10,
   "id": "cc37b119-88f0-4cfc-bd1f-3475dbac898a",
   "metadata": {},
   "outputs": [
    {
     "data": {
      "text/html": [
       "<style>#sk-container-id-1 {color: black;background-color: white;}#sk-container-id-1 pre{padding: 0;}#sk-container-id-1 div.sk-toggleable {background-color: white;}#sk-container-id-1 label.sk-toggleable__label {cursor: pointer;display: block;width: 100%;margin-bottom: 0;padding: 0.3em;box-sizing: border-box;text-align: center;}#sk-container-id-1 label.sk-toggleable__label-arrow:before {content: \"▸\";float: left;margin-right: 0.25em;color: #696969;}#sk-container-id-1 label.sk-toggleable__label-arrow:hover:before {color: black;}#sk-container-id-1 div.sk-estimator:hover label.sk-toggleable__label-arrow:before {color: black;}#sk-container-id-1 div.sk-toggleable__content {max-height: 0;max-width: 0;overflow: hidden;text-align: left;background-color: #f0f8ff;}#sk-container-id-1 div.sk-toggleable__content pre {margin: 0.2em;color: black;border-radius: 0.25em;background-color: #f0f8ff;}#sk-container-id-1 input.sk-toggleable__control:checked~div.sk-toggleable__content {max-height: 200px;max-width: 100%;overflow: auto;}#sk-container-id-1 input.sk-toggleable__control:checked~label.sk-toggleable__label-arrow:before {content: \"▾\";}#sk-container-id-1 div.sk-estimator input.sk-toggleable__control:checked~label.sk-toggleable__label {background-color: #d4ebff;}#sk-container-id-1 div.sk-label input.sk-toggleable__control:checked~label.sk-toggleable__label {background-color: #d4ebff;}#sk-container-id-1 input.sk-hidden--visually {border: 0;clip: rect(1px 1px 1px 1px);clip: rect(1px, 1px, 1px, 1px);height: 1px;margin: -1px;overflow: hidden;padding: 0;position: absolute;width: 1px;}#sk-container-id-1 div.sk-estimator {font-family: monospace;background-color: #f0f8ff;border: 1px dotted black;border-radius: 0.25em;box-sizing: border-box;margin-bottom: 0.5em;}#sk-container-id-1 div.sk-estimator:hover {background-color: #d4ebff;}#sk-container-id-1 div.sk-parallel-item::after {content: \"\";width: 100%;border-bottom: 1px solid gray;flex-grow: 1;}#sk-container-id-1 div.sk-label:hover label.sk-toggleable__label {background-color: #d4ebff;}#sk-container-id-1 div.sk-serial::before {content: \"\";position: absolute;border-left: 1px solid gray;box-sizing: border-box;top: 0;bottom: 0;left: 50%;z-index: 0;}#sk-container-id-1 div.sk-serial {display: flex;flex-direction: column;align-items: center;background-color: white;padding-right: 0.2em;padding-left: 0.2em;position: relative;}#sk-container-id-1 div.sk-item {position: relative;z-index: 1;}#sk-container-id-1 div.sk-parallel {display: flex;align-items: stretch;justify-content: center;background-color: white;position: relative;}#sk-container-id-1 div.sk-item::before, #sk-container-id-1 div.sk-parallel-item::before {content: \"\";position: absolute;border-left: 1px solid gray;box-sizing: border-box;top: 0;bottom: 0;left: 50%;z-index: -1;}#sk-container-id-1 div.sk-parallel-item {display: flex;flex-direction: column;z-index: 1;position: relative;background-color: white;}#sk-container-id-1 div.sk-parallel-item:first-child::after {align-self: flex-end;width: 50%;}#sk-container-id-1 div.sk-parallel-item:last-child::after {align-self: flex-start;width: 50%;}#sk-container-id-1 div.sk-parallel-item:only-child::after {width: 0;}#sk-container-id-1 div.sk-dashed-wrapped {border: 1px dashed gray;margin: 0 0.4em 0.5em 0.4em;box-sizing: border-box;padding-bottom: 0.4em;background-color: white;}#sk-container-id-1 div.sk-label label {font-family: monospace;font-weight: bold;display: inline-block;line-height: 1.2em;}#sk-container-id-1 div.sk-label-container {text-align: center;}#sk-container-id-1 div.sk-container {/* jupyter's `normalize.less` sets `[hidden] { display: none; }` but bootstrap.min.css set `[hidden] { display: none !important; }` so we also need the `!important` here to be able to override the default hidden behavior on the sphinx rendered scikit-learn.org. See: https://github.com/scikit-learn/scikit-learn/issues/21755 */display: inline-block !important;position: relative;}#sk-container-id-1 div.sk-text-repr-fallback {display: none;}</style><div id=\"sk-container-id-1\" class=\"sk-top-container\"><div class=\"sk-text-repr-fallback\"><pre>Pipeline(steps=[(&#x27;scaler&#x27;, StandardScaler()), (&#x27;SVC&#x27;, SVC(C=5))])</pre><b>In a Jupyter environment, please rerun this cell to show the HTML representation or trust the notebook. <br />On GitHub, the HTML representation is unable to render, please try loading this page with nbviewer.org.</b></div><div class=\"sk-container\" hidden><div class=\"sk-item sk-dashed-wrapped\"><div class=\"sk-label-container\"><div class=\"sk-label sk-toggleable\"><input class=\"sk-toggleable__control sk-hidden--visually\" id=\"sk-estimator-id-1\" type=\"checkbox\" ><label for=\"sk-estimator-id-1\" class=\"sk-toggleable__label sk-toggleable__label-arrow\">Pipeline</label><div class=\"sk-toggleable__content\"><pre>Pipeline(steps=[(&#x27;scaler&#x27;, StandardScaler()), (&#x27;SVC&#x27;, SVC(C=5))])</pre></div></div></div><div class=\"sk-serial\"><div class=\"sk-item\"><div class=\"sk-estimator sk-toggleable\"><input class=\"sk-toggleable__control sk-hidden--visually\" id=\"sk-estimator-id-2\" type=\"checkbox\" ><label for=\"sk-estimator-id-2\" class=\"sk-toggleable__label sk-toggleable__label-arrow\">StandardScaler</label><div class=\"sk-toggleable__content\"><pre>StandardScaler()</pre></div></div></div><div class=\"sk-item\"><div class=\"sk-estimator sk-toggleable\"><input class=\"sk-toggleable__control sk-hidden--visually\" id=\"sk-estimator-id-3\" type=\"checkbox\" ><label for=\"sk-estimator-id-3\" class=\"sk-toggleable__label sk-toggleable__label-arrow\">SVC</label><div class=\"sk-toggleable__content\"><pre>SVC(C=5)</pre></div></div></div></div></div></div></div>"
      ],
      "text/plain": [
       "Pipeline(steps=[('scaler', StandardScaler()), ('SVC', SVC(C=5))])"
      ]
     },
     "execution_count": 10,
     "metadata": {},
     "output_type": "execute_result"
    }
   ],
   "source": [
    "model_best"
   ]
  },
  {
   "cell_type": "code",
   "execution_count": 11,
   "id": "3200dff4-0872-4d44-a99f-6285d3d24e68",
   "metadata": {},
   "outputs": [],
   "source": [
    "def performance(t_test, t_pred):\n",
    "    print('Accuracy: \\n',accuracy_score(t_test, t_pred))\n",
    "    print('f1 score: \\n',f1_score(t_test, t_pred, average = None))\n",
    "    print('Classification Report: \\n', classification_report(t_test, t_pred))\n",
    "    print('Confusion Matrix: \\n',confusion_matrix(t_test, t_pred))"
   ]
  },
  {
   "cell_type": "code",
   "execution_count": 12,
   "id": "c321a53b-2bf0-410b-b631-997490ac7d0e",
   "metadata": {},
   "outputs": [
    {
     "name": "stdout",
     "output_type": "stream",
     "text": [
      "Soft-margin SVM with RBF kernel Performance in Train Set:\n",
      "Accuracy: \n",
      " 0.9606385305051388\n",
      "f1 score: \n",
      " [0.93451327 0.95532646 0.98245614 0.98671096 0.98615917 0.97315436\n",
      " 0.94454383 0.98648649 0.96949153 0.93428064 0.95192595]\n",
      "Classification Report: \n",
      "               precision    recall  f1-score   support\n",
      "\n",
      "         0.0       0.99      0.88      0.93       299\n",
      "         1.0       1.00      0.91      0.96       304\n",
      "         2.0       1.00      0.97      0.98       290\n",
      "         3.0       1.00      0.97      0.99       305\n",
      "         4.0       1.00      0.97      0.99       293\n",
      "         5.0       0.99      0.95      0.97       304\n",
      "         6.0       0.99      0.90      0.94       293\n",
      "         7.0       1.00      0.97      0.99       300\n",
      "         8.0       0.99      0.95      0.97       300\n",
      "         9.0       0.97      0.90      0.93       291\n",
      "        10.0       0.91      1.00      0.95      1594\n",
      "\n",
      "    accuracy                           0.96      4573\n",
      "   macro avg       0.99      0.94      0.96      4573\n",
      "weighted avg       0.96      0.96      0.96      4573\n",
      "\n",
      "Confusion Matrix: \n",
      " [[ 264    0    0    0    0    0    1    0    2    0   32]\n",
      " [   0  278    0    0    0    0    0    0    0    2   24]\n",
      " [   0    0  280    0    0    2    0    0    0    1    7]\n",
      " [   0    0    0  297    0    0    0    0    0    0    8]\n",
      " [   0    0    0    0  285    0    0    0    0    0    8]\n",
      " [   0    0    0    0    0  290    0    0    1    0   13]\n",
      " [   0    0    0    0    0    0  264    0    0    4   25]\n",
      " [   2    0    0    0    0    0    0  292    0    1    5]\n",
      " [   0    0    0    0    0    0    0    0  286    1   13]\n",
      " [   0    0    0    0    0    0    1    0    1  263   26]\n",
      " [   0    0    0    0    0    0    0    0    0    0 1594]]\n"
     ]
    }
   ],
   "source": [
    "t_pred_train = model_best.predict(x_train)\n",
    "print('Soft-margin SVM with RBF kernel Performance in Train Set:')\n",
    "performance(t_train, t_pred_train)"
   ]
  },
  {
   "cell_type": "code",
   "execution_count": 13,
   "id": "3a480b15-0467-4165-aa7f-2afcb81c654f",
   "metadata": {},
   "outputs": [
    {
     "name": "stdout",
     "output_type": "stream",
     "text": [
      "Soft-margin SVM with RBF kernel Performance in Test Set:\n",
      "Accuracy: \n",
      " 0.4982517482517482\n",
      "f1 score: \n",
      " [0.1682243  0.30769231 0.34586466 0.37931034 0.58267717 0.416\n",
      " 0.38983051 0.33333333 0.26415094 0.30534351 0.65221319]\n",
      "Classification Report: \n",
      "               precision    recall  f1-score   support\n",
      "\n",
      "         0.0       0.30      0.12      0.17        77\n",
      "         1.0       0.44      0.24      0.31        68\n",
      "         2.0       0.45      0.28      0.35        82\n",
      "         3.0       0.44      0.33      0.38        66\n",
      "         4.0       0.77      0.47      0.58        79\n",
      "         5.0       0.47      0.37      0.42        70\n",
      "         6.0       0.50      0.32      0.39        72\n",
      "         7.0       0.40      0.29      0.33        66\n",
      "         8.0       0.42      0.19      0.26        73\n",
      "         9.0       0.43      0.24      0.31        85\n",
      "        10.0       0.51      0.89      0.65       406\n",
      "\n",
      "    accuracy                           0.50      1144\n",
      "   macro avg       0.47      0.34      0.38      1144\n",
      "weighted avg       0.48      0.50      0.46      1144\n",
      "\n",
      "Confusion Matrix: \n",
      " [[  9   7   4   3   1   4   1   1   2   5  40]\n",
      " [  1  16   4   1   0   2   1   3   3   1  36]\n",
      " [  2   0  23   4   1   1   0   1   4   8  38]\n",
      " [  2   1   4  22   0   1   5   5   1   2  23]\n",
      " [  3   0   2   4  37   1   0   2   0   0  30]\n",
      " [  2   0   1   0   3  26   3   3   0   3  29]\n",
      " [  1   1   3   0   0   3  23   2   2   1  36]\n",
      " [  3   0   1   5   1   2   2  19   1   0  32]\n",
      " [  1   2   2   2   1   4   4   4  14   2  37]\n",
      " [  2   4   4   3   4   4   1   3   1  20  39]\n",
      " [  4   5   3   6   0   7   6   5   5   4 361]]\n"
     ]
    }
   ],
   "source": [
    "print('Soft-margin SVM with RBF kernel Performance in Test Set:')\n",
    "performance(t_test, t_pred_svc_rbf)"
   ]
  }
 ],
 "metadata": {
  "kernelspec": {
   "display_name": "Final Project",
   "language": "python",
   "name": "finalproj"
  },
  "language_info": {
   "codemirror_mode": {
    "name": "ipython",
    "version": 3
   },
   "file_extension": ".py",
   "mimetype": "text/x-python",
   "name": "python",
   "nbconvert_exporter": "python",
   "pygments_lexer": "ipython3",
   "version": "3.11.2"
  },
  "latex_envs": {
   "LaTeX_envs_menu_present": true,
   "autoclose": false,
   "autocomplete": true,
   "bibliofile": "biblio.bib",
   "cite_by": "apalike",
   "current_citInitial": 1,
   "eqLabelWithNumbers": true,
   "eqNumInitial": 1,
   "hotkeys": {
    "equation": "Ctrl-E",
    "itemize": "Ctrl-I"
   },
   "labels_anchors": false,
   "latex_user_defs": false,
   "report_style_numbering": false,
   "user_envs_cfg": false
  },
  "varInspector": {
   "cols": {
    "lenName": 16,
    "lenType": 16,
    "lenVar": 40
   },
   "kernels_config": {
    "python": {
     "delete_cmd_postfix": "",
     "delete_cmd_prefix": "del ",
     "library": "var_list.py",
     "varRefreshCmd": "print(var_dic_list())"
    },
    "r": {
     "delete_cmd_postfix": ") ",
     "delete_cmd_prefix": "rm(",
     "library": "var_list.r",
     "varRefreshCmd": "cat(var_dic_list()) "
    }
   },
   "types_to_exclude": [
    "module",
    "function",
    "builtin_function_or_method",
    "instance",
    "_Feature"
   ],
   "window_display": false
  }
 },
 "nbformat": 4,
 "nbformat_minor": 5
}
